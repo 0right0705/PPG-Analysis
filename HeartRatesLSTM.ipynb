{
 "cells": [
  {
   "cell_type": "code",
   "execution_count": 1,
   "id": "738f15c4-2a08-4727-8d1a-4c23a5708b63",
   "metadata": {},
   "outputs": [],
   "source": [
    "import torch\n",
    "import torch.nn as nn\n",
    "import torch.optim as optim\n",
    "import pandas as pd\n",
    "import numpy as np\n",
    "import matplotlib.pyplot as plt\n",
    "from torch.utils.data import TensorDataset, DataLoader\n",
    "from sklearn.preprocessing import MinMaxScaler\n",
    "import torch.nn.functional as F\n",
    "import pickle\n",
    "from tqdm import tqdm\n",
    "from sklearn.metrics import r2_score, accuracy_score"
   ]
  },
  {
   "cell_type": "code",
   "execution_count": 2,
   "id": "e34ece9d-8987-4ec9-b42f-6e04b617bcf8",
   "metadata": {},
   "outputs": [
    {
     "data": {
      "text/html": [
       "<div>\n",
       "<style scoped>\n",
       "    .dataframe tbody tr th:only-of-type {\n",
       "        vertical-align: middle;\n",
       "    }\n",
       "\n",
       "    .dataframe tbody tr th {\n",
       "        vertical-align: top;\n",
       "    }\n",
       "\n",
       "    .dataframe thead th {\n",
       "        text-align: right;\n",
       "    }\n",
       "</style>\n",
       "<table border=\"1\" class=\"dataframe\">\n",
       "  <thead>\n",
       "    <tr style=\"text-align: right;\">\n",
       "      <th></th>\n",
       "      <th>심박측정일시</th>\n",
       "      <th>심박측정</th>\n",
       "      <th>최고심박</th>\n",
       "      <th>최저심박</th>\n",
       "      <th>심박수_배열</th>\n",
       "    </tr>\n",
       "  </thead>\n",
       "  <tbody>\n",
       "    <tr>\n",
       "      <th>0</th>\n",
       "      <td>2024-09-12 20:42</td>\n",
       "      <td>80.0</td>\n",
       "      <td>105.0</td>\n",
       "      <td>53.0</td>\n",
       "      <td>93,81,85,89,86,86,86,85,85,85,86,83,89,89,96,7...</td>\n",
       "    </tr>\n",
       "    <tr>\n",
       "      <th>1</th>\n",
       "      <td>2024-09-12 20:42</td>\n",
       "      <td>105.0</td>\n",
       "      <td>138.0</td>\n",
       "      <td>67.0</td>\n",
       "      <td>90,103,127,114,117,117,120,80,86,86,93,110,114...</td>\n",
       "    </tr>\n",
       "    <tr>\n",
       "      <th>2</th>\n",
       "      <td>2024-09-12 20:42</td>\n",
       "      <td>111.0</td>\n",
       "      <td>135.0</td>\n",
       "      <td>86.0</td>\n",
       "      <td>120,90,110,110,130,101,108,116,117,120,120,124...</td>\n",
       "    </tr>\n",
       "    <tr>\n",
       "      <th>3</th>\n",
       "      <td>2024-09-12 20:42</td>\n",
       "      <td>106.0</td>\n",
       "      <td>131.0</td>\n",
       "      <td>62.0</td>\n",
       "      <td>121,123,126,62,66,71,86,90,94,115,116,118,81,9...</td>\n",
       "    </tr>\n",
       "    <tr>\n",
       "      <th>4</th>\n",
       "      <td>2024-09-12 20:42</td>\n",
       "      <td>87.0</td>\n",
       "      <td>125.0</td>\n",
       "      <td>54.0</td>\n",
       "      <td>78,83,88,74,86,99,75,77,79,75,76,78,73,83,93,8...</td>\n",
       "    </tr>\n",
       "  </tbody>\n",
       "</table>\n",
       "</div>"
      ],
      "text/plain": [
       "             심박측정일시   심박측정   최고심박  최저심박  \\\n",
       "0  2024-09-12 20:42   80.0  105.0  53.0   \n",
       "1  2024-09-12 20:42  105.0  138.0  67.0   \n",
       "2  2024-09-12 20:42  111.0  135.0  86.0   \n",
       "3  2024-09-12 20:42  106.0  131.0  62.0   \n",
       "4  2024-09-12 20:42   87.0  125.0  54.0   \n",
       "\n",
       "                                              심박수_배열  \n",
       "0  93,81,85,89,86,86,86,85,85,85,86,83,89,89,96,7...  \n",
       "1  90,103,127,114,117,117,120,80,86,86,93,110,114...  \n",
       "2  120,90,110,110,130,101,108,116,117,120,120,124...  \n",
       "3  121,123,126,62,66,71,86,90,94,115,116,118,81,9...  \n",
       "4  78,83,88,74,86,99,75,77,79,75,76,78,73,83,93,8...  "
      ]
     },
     "execution_count": 2,
     "metadata": {},
     "output_type": "execute_result"
    }
   ],
   "source": [
    "data = pd.read_csv('/home/youngwoo/한국건강증진개발원_보건소 모바일 헬스케어_심박수_20240912.csv', encoding='cp949')\n",
    "data.head()"
   ]
  },
  {
   "cell_type": "code",
   "execution_count": 8,
   "id": "d434608f-8902-4bb3-b8a1-3bc7fabd19de",
   "metadata": {},
   "outputs": [],
   "source": [
    "import numpy as np\n",
    "\n",
    "def makeNumpyData(data):\n",
    "    \"\"\" Pandas DataFrame의 '심박수_배열' 열을 NumPy 배열로 변환 \n",
    "        - 0이거나 숫자가 아닌 값은 제외\n",
    "    \"\"\"\n",
    "    ppg_data = data['심박수_배열']\n",
    "    \n",
    "    ppg_data_cleaned = []\n",
    "    for row in ppg_data.astype(str):\n",
    "        try:\n",
    "            numbers = [\n",
    "                int(num.strip()) \n",
    "                for num in row.split(\",\") \n",
    "                if num.strip().isdigit() and int(num.strip()) != 0\n",
    "            ]\n",
    "            ppg_data_cleaned.extend(numbers)\n",
    "        except ValueError as e:\n",
    "            print(f\"변환 오류 발생: {row} - {e}\")\n",
    "\n",
    "    return np.array(ppg_data_cleaned, dtype=np.int32)\n",
    "\n",
    "def createSequence(data, seq_length):\n",
    "    \"\"\" 시퀀스 데이터 및 레이블 생성 \"\"\"\n",
    "    sequences, labels = [], []\n",
    "    for i in range(len(data) - seq_length):\n",
    "        sequences.append(data[i:i+seq_length])  # seq_length만큼 입력\n",
    "        labels.append(data[i+seq_length])  # 다음 값이 레이블\n",
    "    return np.array(sequences, dtype=np.float32), np.array(labels, dtype=np.float32)  # float으로 변환\n",
    "\n",
    "def makeTensorData(X, y):\n",
    "    \"\"\" 데이터를 스케일링 후 PyTorch Tensor로 변환 \"\"\"\n",
    "    scaler_X = MinMaxScaler()\n",
    "    scaler_y = MinMaxScaler()\n",
    "\n",
    "    X_scaled = scaler_X.fit_transform(X).astype(np.float32)  # (batch, seq_length)\n",
    "    y_scaled = scaler_y.fit_transform(y.reshape(-1, 1)).astype(np.float32)  # (batch, 1)\n",
    "\n",
    "    # PyTorch Tensor 변환\n",
    "    X_tensor = torch.tensor(X_scaled).unsqueeze(-1)  # (batch, seq_length, 1)\n",
    "    y_tensor = torch.tensor(y_scaled).squeeze()  # (batch,)\n",
    "\n",
    "    return X_tensor, y_tensor\n",
    "\n",
    "def setTrainTestData(X_tensor, y_tensor, batch_size):\n",
    "    \"\"\" 학습 및 테스트 데이터 분할 후 DataLoader 생성 \"\"\"\n",
    "    train_size = int(len(X_tensor) * 0.8)\n",
    "    \n",
    "    X_train, y_train = X_tensor[:train_size], y_tensor[:train_size]\n",
    "    X_test, y_test = X_tensor[train_size:], y_tensor[train_size:]\n",
    "\n",
    "    # DataLoader 적용\n",
    "    train_dataset = TensorDataset(X_train, y_train)\n",
    "    test_dataset = TensorDataset(X_test, y_test)\n",
    "\n",
    "    train_loader = DataLoader(train_dataset, batch_size=batch_size, shuffle=True)\n",
    "    test_loader = DataLoader(test_dataset, batch_size=batch_size, shuffle=False)\n",
    "\n",
    "    print(\"데이터 변환 완료! X_train.shape:\", X_train.shape, \"y_train.shape:\", y_train.shape)\n",
    "    print(\"X_test.shape:\", X_test.shape, \"y_test.shape:\", y_test.shape)\n",
    "    \n",
    "    return train_loader, test_loader, X_train, y_train, X_test, y_test"
   ]
  },
  {
   "cell_type": "code",
   "execution_count": 18,
   "id": "c4473248-27b6-4029-b2bf-23829a9a9cb1",
   "metadata": {},
   "outputs": [
    {
     "name": "stdout",
     "output_type": "stream",
     "text": [
      "데이터 변환 완료! X_train.shape: torch.Size([2685618, 40, 1]) y_train.shape: torch.Size([2685618])\n",
      "X_test.shape: torch.Size([671405, 40, 1]) y_test.shape: torch.Size([671405])\n"
     ]
    }
   ],
   "source": [
    "##수 정 할 변 수 들##\n",
    "seq_length = 40 # Length of Sequence\n",
    "batch_size = 64 # Literally Batch Size\n",
    "num_epochs = 15 # How much time will model practice?\n",
    "update_interval = 20  # tqdm 업데이트 주기 (매 10배치마다 갱신)\n",
    "practice_num = 3 # set Pickle File Number (update +1 every time)\n",
    "\n",
    "# main section\n",
    "ppg_data = makeNumpyData(data)\n",
    "X, y = createSequence(ppg_data, seq_length)\n",
    "X_tensor, y_tensor = makeTensorData(X, y)\n",
    "train_loader, test_loader, X_train, y_train, X_test, y_test = setTrainTestData(X_tensor, y_tensor, batch_size)"
   ]
  },
  {
   "cell_type": "code",
   "execution_count": 10,
   "id": "f30012f7-6d03-41f8-bcd8-ed0ba993bda1",
   "metadata": {},
   "outputs": [],
   "source": [
    "class LSTMModel(nn.Module): # Defying LSTM Model\n",
    "    def __init__(self, input_size=1, hidden_size=50, num_layers=2, output_size=1):\n",
    "        super(LSTMModel, self).__init__()\n",
    "        self.hidden_size = hidden_size\n",
    "        self.num_layers = num_layers\n",
    "\n",
    "        # LSTM layer\n",
    "        self.lstm = nn.LSTM(input_size, hidden_size, num_layers, batch_first=True)\n",
    "        \n",
    "        # Fully connected layer\n",
    "        self.fc = nn.Linear(hidden_size, output_size)\n",
    "\n",
    "    def forward(self, x):\n",
    "        # LSTM의 초기 hidden state와 cell state를 0으로 초기화\n",
    "        h0 = torch.zeros(self.num_layers, x.size(0), self.hidden_size).to(x.device)\n",
    "        c0 = torch.zeros(self.num_layers, x.size(0), self.hidden_size).to(x.device)\n",
    "\n",
    "        # LSTM 순전파\n",
    "        out, _ = self.lstm(x, (h0, c0))  # out: (batch, seq_len, hidden_size)\n",
    "\n",
    "        # 마지막 타임스텝의 출력만 사용\n",
    "        out = self.fc(out[:, -1, :])  # (batch, output_size)\n",
    "\n",
    "        return out"
   ]
  },
  {
   "cell_type": "code",
   "execution_count": 11,
   "id": "66ec81c3-7c88-452b-aff3-30c61d8460b8",
   "metadata": {},
   "outputs": [
    {
     "name": "stdout",
     "output_type": "stream",
     "text": [
      "11.8\n",
      "True\n"
     ]
    }
   ],
   "source": [
    "import torch\n",
    "print(torch.version.cuda)  # CUDA 버전 출력\n",
    "print(torch.cuda.is_available())  # CUDA 사용 가능 여부\n"
   ]
  },
  {
   "cell_type": "code",
   "execution_count": 14,
   "id": "141c5df0-7feb-437b-a611-1b46a126bdd5",
   "metadata": {},
   "outputs": [
    {
     "name": "stdout",
     "output_type": "stream",
     "text": [
      "LSTMModel(\n",
      "  (lstm): LSTM(1, 50, num_layers=2, batch_first=True)\n",
      "  (fc): Linear(in_features=50, out_features=1, bias=True)\n",
      ")\n"
     ]
    }
   ],
   "source": [
    "# 모델, 손실 함수, 옵티마이저 설정\n",
    "device = torch.device(\"cuda\" if torch.cuda.is_available() else \"cpu\")\n",
    "model = model.to(device)  # 모델도 GPU로 보내기 # If NVIDIA GPU exist, then use cuda, if not, use CPU\n",
    "print(model)\n",
    "model = LSTMModel().to(device)\n",
    "criterion = nn.MSELoss()\n",
    "optimizer = optim.Adam(model.parameters(), lr=0.001)\n",
    "\n",
    "# 데이터도 GPU로 이동\n",
    "X_train, y_train = X_train.to(device), y_train.to(device)\n",
    "X_test, y_test = X_test.to(device), y_test.to(device)"
   ]
  },
  {
   "cell_type": "code",
   "execution_count": 19,
   "id": "0347cd8f-acbe-4218-bdc1-9a1bb0c29382",
   "metadata": {},
   "outputs": [
    {
     "name": "stderr",
     "output_type": "stream",
     "text": [
      "Epoch 1/15: 100%|███████████| 41963/41963 [00:53<00:00, 783.68it/s, loss=0.0009]\n"
     ]
    },
    {
     "name": "stdout",
     "output_type": "stream",
     "text": [
      "\n",
      "Epoch [1/15], Average Loss: 0.0007, Accuracy: 0.8727\n"
     ]
    },
    {
     "name": "stderr",
     "output_type": "stream",
     "text": [
      "Epoch 2/15: 100%|███████████| 41963/41963 [00:53<00:00, 788.45it/s, loss=0.0002]\n"
     ]
    },
    {
     "name": "stdout",
     "output_type": "stream",
     "text": [
      "\n",
      "Epoch [2/15], Average Loss: 0.0007, Accuracy: 0.8718\n"
     ]
    },
    {
     "name": "stderr",
     "output_type": "stream",
     "text": [
      "Epoch 3/15: 100%|███████████| 41963/41963 [00:52<00:00, 792.27it/s, loss=0.0017]\n"
     ]
    },
    {
     "name": "stdout",
     "output_type": "stream",
     "text": [
      "\n",
      "Epoch [3/15], Average Loss: 0.0007, Accuracy: 0.8719\n"
     ]
    },
    {
     "name": "stderr",
     "output_type": "stream",
     "text": [
      "Epoch 4/15: 100%|███████████| 41963/41963 [00:52<00:00, 796.57it/s, loss=0.0006]\n"
     ]
    },
    {
     "name": "stdout",
     "output_type": "stream",
     "text": [
      "\n",
      "Epoch [4/15], Average Loss: 0.0007, Accuracy: 0.8718\n"
     ]
    },
    {
     "name": "stderr",
     "output_type": "stream",
     "text": [
      "Epoch 5/15: 100%|███████████| 41963/41963 [00:52<00:00, 796.56it/s, loss=0.0007]\n"
     ]
    },
    {
     "name": "stdout",
     "output_type": "stream",
     "text": [
      "\n",
      "Epoch [5/15], Average Loss: 0.0007, Accuracy: 0.8723\n"
     ]
    },
    {
     "name": "stderr",
     "output_type": "stream",
     "text": [
      "Epoch 6/15: 100%|███████████| 41963/41963 [00:52<00:00, 792.56it/s, loss=0.0010]\n"
     ]
    },
    {
     "name": "stdout",
     "output_type": "stream",
     "text": [
      "\n",
      "Epoch [6/15], Average Loss: 0.0007, Accuracy: 0.8716\n"
     ]
    },
    {
     "name": "stderr",
     "output_type": "stream",
     "text": [
      "Epoch 7/15: 100%|███████████| 41963/41963 [00:52<00:00, 797.52it/s, loss=0.0006]\n"
     ]
    },
    {
     "name": "stdout",
     "output_type": "stream",
     "text": [
      "\n",
      "Epoch [7/15], Average Loss: 0.0007, Accuracy: 0.8726\n"
     ]
    },
    {
     "name": "stderr",
     "output_type": "stream",
     "text": [
      "Epoch 8/15: 100%|███████████| 41963/41963 [00:52<00:00, 797.66it/s, loss=0.0013]\n"
     ]
    },
    {
     "name": "stdout",
     "output_type": "stream",
     "text": [
      "\n",
      "Epoch [8/15], Average Loss: 0.0007, Accuracy: 0.8710\n"
     ]
    },
    {
     "name": "stderr",
     "output_type": "stream",
     "text": [
      "Epoch 9/15: 100%|███████████| 41963/41963 [00:53<00:00, 784.59it/s, loss=0.0009]\n"
     ]
    },
    {
     "name": "stdout",
     "output_type": "stream",
     "text": [
      "\n",
      "Epoch [9/15], Average Loss: 0.0007, Accuracy: 0.8721\n"
     ]
    },
    {
     "name": "stderr",
     "output_type": "stream",
     "text": [
      "Epoch 10/15: 100%|██████████| 41963/41963 [00:52<00:00, 791.90it/s, loss=0.0009]\n"
     ]
    },
    {
     "name": "stdout",
     "output_type": "stream",
     "text": [
      "\n",
      "Epoch [10/15], Average Loss: 0.0007, Accuracy: 0.8717\n"
     ]
    },
    {
     "name": "stderr",
     "output_type": "stream",
     "text": [
      "Epoch 11/15: 100%|██████████| 41963/41963 [00:52<00:00, 801.34it/s, loss=0.0004]\n"
     ]
    },
    {
     "name": "stdout",
     "output_type": "stream",
     "text": [
      "\n",
      "Epoch [11/15], Average Loss: 0.0007, Accuracy: 0.8703\n"
     ]
    },
    {
     "name": "stderr",
     "output_type": "stream",
     "text": [
      "Epoch 12/15: 100%|██████████| 41963/41963 [00:52<00:00, 802.09it/s, loss=0.0006]\n"
     ]
    },
    {
     "name": "stdout",
     "output_type": "stream",
     "text": [
      "\n",
      "Epoch [12/15], Average Loss: 0.0007, Accuracy: 0.8727\n"
     ]
    },
    {
     "name": "stderr",
     "output_type": "stream",
     "text": [
      "Epoch 13/15: 100%|██████████| 41963/41963 [00:52<00:00, 793.98it/s, loss=0.0004]\n"
     ]
    },
    {
     "name": "stdout",
     "output_type": "stream",
     "text": [
      "\n",
      "Epoch [13/15], Average Loss: 0.0007, Accuracy: 0.8717\n"
     ]
    },
    {
     "name": "stderr",
     "output_type": "stream",
     "text": [
      "Epoch 14/15: 100%|██████████| 41963/41963 [00:54<00:00, 775.94it/s, loss=0.0009]\n"
     ]
    },
    {
     "name": "stdout",
     "output_type": "stream",
     "text": [
      "\n",
      "Epoch [14/15], Average Loss: 0.0007, Accuracy: 0.8718\n"
     ]
    },
    {
     "name": "stderr",
     "output_type": "stream",
     "text": [
      "Epoch 15/15: 100%|██████████| 41963/41963 [00:53<00:00, 787.34it/s, loss=0.0008]\n"
     ]
    },
    {
     "name": "stdout",
     "output_type": "stream",
     "text": [
      "\n",
      "Epoch [15/15], Average Loss: 0.0007, Accuracy: 0.8721\n",
      "모델이 저장되었습니다: LSTM_model3.pkl\n"
     ]
    }
   ],
   "source": [
    "device = torch.device(\"cuda\" if torch.cuda.is_available() else \"cpu\")\n",
    "model = model.to(device)  # 모델도 GPU로\n",
    "\n",
    "for epoch in range(num_epochs):\n",
    "    model.train()\n",
    "    epoch_loss = 0\n",
    "\n",
    "    progress_bar = tqdm(train_loader, desc=f\"Epoch {epoch+1}/{num_epochs}\", leave=True)\n",
    "\n",
    "    for i, (X_batch, y_batch) in enumerate(progress_bar):\n",
    "        optimizer.zero_grad()\n",
    "\n",
    "        # 데이터도 GPU로 이동\n",
    "        X_batch = X_batch.to(device)\n",
    "        y_batch = y_batch.to(device).unsqueeze(-1)  # 한 번만 unsqueeze!\n",
    "\n",
    "        y_pred = model(X_batch)\n",
    "        loss = criterion(y_pred, y_batch)\n",
    "\n",
    "        loss.backward()\n",
    "        optimizer.step()\n",
    "        epoch_loss += loss.item()\n",
    "\n",
    "        if i % update_interval == 0:\n",
    "            progress_bar.set_postfix(loss=f\"{loss.item():.4f}\")\n",
    "\n",
    "    ##### 평가 #####\n",
    "    model.eval()\n",
    "    with torch.no_grad():\n",
    "        y_true, y_pred_list = [], []\n",
    "\n",
    "        for X_batch, y_batch in test_loader:\n",
    "            X_batch = X_batch.to(device)\n",
    "            y_batch = y_batch.to(device).unsqueeze(-1)\n",
    "\n",
    "            y_pred = model(X_batch)\n",
    "\n",
    "            if isinstance(criterion, torch.nn.MSELoss):\n",
    "                y_pred_list.extend(y_pred.cpu().numpy())\n",
    "                y_true.extend(y_batch.cpu().numpy())\n",
    "            else:\n",
    "                y_pred_class = torch.argmax(F.softmax(y_pred, dim=1), dim=1)\n",
    "                y_pred_list.extend(y_pred_class.cpu().numpy())\n",
    "                y_true.extend(y_batch.cpu().numpy())\n",
    "\n",
    "        if isinstance(criterion, torch.nn.MSELoss):\n",
    "            accuracy = r2_score(y_true, y_pred_list)\n",
    "        else:\n",
    "            accuracy = accuracy_score(y_true, y_pred_list)\n",
    "\n",
    "    print(f\"\\nEpoch [{epoch+1}/{num_epochs}], Average Loss: {epoch_loss / len(train_loader):.4f}, Accuracy: {accuracy:.4f}\")\n",
    "\n",
    "##### 모델 저장 #####\n",
    "model_path = f\"LSTM_model{practice_num}.pkl\"\n",
    "with open(model_path, \"wb\") as f:\n",
    "    pickle.dump(model, f)\n",
    "print(f\"모델이 저장되었습니다: {model_path}\")\n"
   ]
  }
 ],
 "metadata": {
  "kernelspec": {
   "display_name": "Python 3 (ipykernel)",
   "language": "python",
   "name": "python3"
  },
  "language_info": {
   "codemirror_mode": {
    "name": "ipython",
    "version": 3
   },
   "file_extension": ".py",
   "mimetype": "text/x-python",
   "name": "python",
   "nbconvert_exporter": "python",
   "pygments_lexer": "ipython3",
   "version": "3.10.12"
  }
 },
 "nbformat": 4,
 "nbformat_minor": 5
}
