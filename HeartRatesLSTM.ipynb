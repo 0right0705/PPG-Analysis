{
 "cells": [
  {
   "cell_type": "code",
   "execution_count": 6,
   "id": "738f15c4-2a08-4727-8d1a-4c23a5708b63",
   "metadata": {},
   "outputs": [],
   "source": [
    "import torch\n",
    "import torch.nn as nn\n",
    "import torch.optim as optim\n",
    "import pandas as pd\n",
    "import numpy as np\n",
    "import matplotlib.pyplot as plt\n",
    "from torch.utils.data import TensorDataset, DataLoader\n",
    "from sklearn.preprocessing import MinMaxScaler\n",
    "import torch.nn.functional as F\n",
    "import pickle\n",
    "from tqdm import tqdm\n",
    "from sklearn.metrics import r2_score, accuracy_score"
   ]
  },
  {
   "cell_type": "code",
   "execution_count": 8,
   "id": "e34ece9d-8987-4ec9-b42f-6e04b617bcf8",
   "metadata": {},
   "outputs": [
    {
     "data": {
      "text/html": [
       "<div>\n",
       "<style scoped>\n",
       "    .dataframe tbody tr th:only-of-type {\n",
       "        vertical-align: middle;\n",
       "    }\n",
       "\n",
       "    .dataframe tbody tr th {\n",
       "        vertical-align: top;\n",
       "    }\n",
       "\n",
       "    .dataframe thead th {\n",
       "        text-align: right;\n",
       "    }\n",
       "</style>\n",
       "<table border=\"1\" class=\"dataframe\">\n",
       "  <thead>\n",
       "    <tr style=\"text-align: right;\">\n",
       "      <th></th>\n",
       "      <th>심박측정일시</th>\n",
       "      <th>심박측정</th>\n",
       "      <th>최고심박</th>\n",
       "      <th>최저심박</th>\n",
       "      <th>심박수_배열</th>\n",
       "    </tr>\n",
       "  </thead>\n",
       "  <tbody>\n",
       "    <tr>\n",
       "      <th>0</th>\n",
       "      <td>2024-09-12 20:42</td>\n",
       "      <td>80.0</td>\n",
       "      <td>105.0</td>\n",
       "      <td>53.0</td>\n",
       "      <td>93,81,85,89,86,86,86,85,85,85,86,83,89,89,96,7...</td>\n",
       "    </tr>\n",
       "    <tr>\n",
       "      <th>1</th>\n",
       "      <td>2024-09-12 20:42</td>\n",
       "      <td>105.0</td>\n",
       "      <td>138.0</td>\n",
       "      <td>67.0</td>\n",
       "      <td>90,103,127,114,117,117,120,80,86,86,93,110,114...</td>\n",
       "    </tr>\n",
       "    <tr>\n",
       "      <th>2</th>\n",
       "      <td>2024-09-12 20:42</td>\n",
       "      <td>111.0</td>\n",
       "      <td>135.0</td>\n",
       "      <td>86.0</td>\n",
       "      <td>120,90,110,110,130,101,108,116,117,120,120,124...</td>\n",
       "    </tr>\n",
       "    <tr>\n",
       "      <th>3</th>\n",
       "      <td>2024-09-12 20:42</td>\n",
       "      <td>106.0</td>\n",
       "      <td>131.0</td>\n",
       "      <td>62.0</td>\n",
       "      <td>121,123,126,62,66,71,86,90,94,115,116,118,81,9...</td>\n",
       "    </tr>\n",
       "    <tr>\n",
       "      <th>4</th>\n",
       "      <td>2024-09-12 20:42</td>\n",
       "      <td>87.0</td>\n",
       "      <td>125.0</td>\n",
       "      <td>54.0</td>\n",
       "      <td>78,83,88,74,86,99,75,77,79,75,76,78,73,83,93,8...</td>\n",
       "    </tr>\n",
       "  </tbody>\n",
       "</table>\n",
       "</div>"
      ],
      "text/plain": [
       "             심박측정일시   심박측정   최고심박  최저심박  \\\n",
       "0  2024-09-12 20:42   80.0  105.0  53.0   \n",
       "1  2024-09-12 20:42  105.0  138.0  67.0   \n",
       "2  2024-09-12 20:42  111.0  135.0  86.0   \n",
       "3  2024-09-12 20:42  106.0  131.0  62.0   \n",
       "4  2024-09-12 20:42   87.0  125.0  54.0   \n",
       "\n",
       "                                              심박수_배열  \n",
       "0  93,81,85,89,86,86,86,85,85,85,86,83,89,89,96,7...  \n",
       "1  90,103,127,114,117,117,120,80,86,86,93,110,114...  \n",
       "2  120,90,110,110,130,101,108,116,117,120,120,124...  \n",
       "3  121,123,126,62,66,71,86,90,94,115,116,118,81,9...  \n",
       "4  78,83,88,74,86,99,75,77,79,75,76,78,73,83,93,8...  "
      ]
     },
     "execution_count": 8,
     "metadata": {},
     "output_type": "execute_result"
    }
   ],
   "source": [
    "data = pd.read_csv('/home/youngwoo/한국건강증진개발원_보건소 모바일 헬스케어_심박수_20240912.csv', encoding='cp949')\n",
    "data.head()"
   ]
  },
  {
   "cell_type": "code",
   "execution_count": 11,
   "id": "d434608f-8902-4bb3-b8a1-3bc7fabd19de",
   "metadata": {},
   "outputs": [],
   "source": [
    "def makeNumpyData(data):\n",
    "    \"\"\" Pandas DataFrame의 '심박수_배열' 열을 NumPy 배열로 변환 \"\"\"\n",
    "    ppg_data = data['심박수_배열']\n",
    "    \n",
    "    # 문자열 변환 후, 쉼표로 구분된 숫자 리스트로 변환\n",
    "    ppg_data_cleaned = []\n",
    "    for row in ppg_data.astype(str):\n",
    "        try:\n",
    "            numbers = [int(num.strip()) if num.strip().isdigit() else 0 for num in row.split(\",\")]\n",
    "            ppg_data_cleaned.extend(numbers)  # 리스트 평탄화\n",
    "        except ValueError as e:\n",
    "            print(f\"변환 오류 발생: {row} - {e}\")  # 변환 오류 발생 시 출력\n",
    "\n",
    "    return np.array(ppg_data_cleaned, dtype=np.int32)\n",
    "\n",
    "def createSequence(data, seq_length):\n",
    "    \"\"\" 시퀀스 데이터 및 레이블 생성 \"\"\"\n",
    "    sequences, labels = [], []\n",
    "    for i in range(len(data) - seq_length):\n",
    "        sequences.append(data[i:i+seq_length])  # seq_length만큼 입력\n",
    "        labels.append(data[i+seq_length])  # 다음 값이 레이블\n",
    "    return np.array(sequences, dtype=np.float32), np.array(labels, dtype=np.float32)  # float으로 변환\n",
    "\n",
    "def makeTensorData(X, y):\n",
    "    \"\"\" 데이터를 스케일링 후 PyTorch Tensor로 변환 \"\"\"\n",
    "    scaler_X = MinMaxScaler()\n",
    "    scaler_y = MinMaxScaler()\n",
    "\n",
    "    X_scaled = scaler_X.fit_transform(X).astype(np.float32)  # (batch, seq_length)\n",
    "    y_scaled = scaler_y.fit_transform(y.reshape(-1, 1)).astype(np.float32)  # (batch, 1)\n",
    "\n",
    "    # PyTorch Tensor 변환\n",
    "    X_tensor = torch.tensor(X_scaled).unsqueeze(-1)  # (batch, seq_length, 1)\n",
    "    y_tensor = torch.tensor(y_scaled).squeeze()  # (batch,)\n",
    "\n",
    "    return X_tensor, y_tensor\n",
    "\n",
    "def setTrainTestData(X_tensor, y_tensor, batch_size):\n",
    "    \"\"\" 학습 및 테스트 데이터 분할 후 DataLoader 생성 \"\"\"\n",
    "    train_size = int(len(X_tensor) * 0.8)\n",
    "    \n",
    "    X_train, y_train = X_tensor[:train_size], y_tensor[:train_size]\n",
    "    X_test, y_test = X_tensor[train_size:], y_tensor[train_size:]\n",
    "\n",
    "    # DataLoader 적용\n",
    "    train_dataset = TensorDataset(X_train, y_train)\n",
    "    test_dataset = TensorDataset(X_test, y_test)\n",
    "\n",
    "    train_loader = DataLoader(train_dataset, batch_size=batch_size, shuffle=True)\n",
    "    test_loader = DataLoader(test_dataset, batch_size=batch_size, shuffle=False)\n",
    "\n",
    "    print(\"데이터 변환 완료! X_train.shape:\", X_train.shape, \"y_train.shape:\", y_train.shape)\n",
    "    print(\"X_test.shape:\", X_test.shape, \"y_test.shape:\", y_test.shape)\n",
    "    \n",
    "    return train_loader, test_loader, X_train, y_train, X_test, y_test"
   ]
  },
  {
   "cell_type": "code",
   "execution_count": 12,
   "id": "c4473248-27b6-4029-b2bf-23829a9a9cb1",
   "metadata": {},
   "outputs": [
    {
     "name": "stdout",
     "output_type": "stream",
     "text": [
      "데이터 변환 완료! X_train.shape: torch.Size([3406916, 30, 1]) y_train.shape: torch.Size([3406916])\n",
      "X_test.shape: torch.Size([851730, 30, 1]) y_test.shape: torch.Size([851730])\n"
     ]
    }
   ],
   "source": [
    "##수 정 할 변 수 들##\n",
    "seq_length = 30 # Length of Sequence\n",
    "batch_size = 64 # Literally Batch Size\n",
    "num_epochs = 10 # How much time will model practice?\n",
    "update_interval = 20  # tqdm 업데이트 주기 (매 10배치마다 갱신)\n",
    "practice_num = 1 # set Pickle File Number (update +1 every time)\n",
    "\n",
    "# main section\n",
    "ppg_data = makeNumpyData(data)\n",
    "X, y = createSequence(ppg_data, seq_length)\n",
    "X_tensor, y_tensor = makeTensorData(X, y)\n",
    "train_loader, test_loader, X_train, y_train, X_test, y_test = setTrainTestData(X_tensor, y_tensor, batch_size)"
   ]
  },
  {
   "cell_type": "code",
   "execution_count": 13,
   "id": "f30012f7-6d03-41f8-bcd8-ed0ba993bda1",
   "metadata": {},
   "outputs": [],
   "source": [
    "class LSTMModel(nn.Module): # Defying LSTM Model\n",
    "    def __init__(self, input_size=1, hidden_size=50, num_layers=2, output_size=1):\n",
    "        super(LSTMModel, self).__init__()\n",
    "        self.hidden_size = hidden_size\n",
    "        self.num_layers = num_layers\n",
    "\n",
    "        # LSTM layer\n",
    "        self.lstm = nn.LSTM(input_size, hidden_size, num_layers, batch_first=True)\n",
    "        \n",
    "        # Fully connected layer\n",
    "        self.fc = nn.Linear(hidden_size, output_size)\n",
    "\n",
    "    def forward(self, x):\n",
    "        # LSTM의 초기 hidden state와 cell state를 0으로 초기화\n",
    "        h0 = torch.zeros(self.num_layers, x.size(0), self.hidden_size).to(x.device)\n",
    "        c0 = torch.zeros(self.num_layers, x.size(0), self.hidden_size).to(x.device)\n",
    "\n",
    "        # LSTM 순전파\n",
    "        out, _ = self.lstm(x, (h0, c0))  # out: (batch, seq_len, hidden_size)\n",
    "\n",
    "        # 마지막 타임스텝의 출력만 사용\n",
    "        out = self.fc(out[:, -1, :])  # (batch, output_size)\n",
    "\n",
    "        return out"
   ]
  },
  {
   "cell_type": "code",
   "execution_count": 17,
   "id": "141c5df0-7feb-437b-a611-1b46a126bdd5",
   "metadata": {},
   "outputs": [],
   "source": [
    "# 모델, 손실 함수, 옵티마이저 설정\n",
    "device = torch.device(\"cuda\" if torch.cuda.is_available() else \"cpu\") # If NVIDIA GPU exist, then use cuda, if not, use CPU\n",
    "model = LSTMModel().to(device)\n",
    "criterion = nn.MSELoss()\n",
    "optimizer = optim.Adam(model.parameters(), lr=0.001)\n",
    "\n",
    "# 데이터도 GPU로 이동\n",
    "X_train, y_train = X_train.to(device), y_train.to(device)\n",
    "X_test, y_test = X_test.to(device), y_test.to(device)"
   ]
  },
  {
   "cell_type": "code",
   "execution_count": 15,
   "id": "0347cd8f-acbe-4218-bdc1-9a1bb0c29382",
   "metadata": {},
   "outputs": [
    {
     "name": "stderr",
     "output_type": "stream",
     "text": [
      "Epoch 1/10: 100%|███████████| 53234/53234 [02:42<00:00, 326.94it/s, loss=0.0015]\n"
     ]
    },
    {
     "name": "stdout",
     "output_type": "stream",
     "text": [
      "\n",
      "Epoch [1/10], Average Loss: 0.0039, Accuracy: 0.8419\n"
     ]
    },
    {
     "name": "stderr",
     "output_type": "stream",
     "text": [
      "Epoch 2/10: 100%|███████████| 53234/53234 [02:52<00:00, 307.82it/s, loss=0.0071]\n"
     ]
    },
    {
     "name": "stdout",
     "output_type": "stream",
     "text": [
      "\n",
      "Epoch [2/10], Average Loss: 0.0035, Accuracy: 0.8509\n"
     ]
    },
    {
     "name": "stderr",
     "output_type": "stream",
     "text": [
      "Epoch 3/10: 100%|███████████| 53234/53234 [02:53<00:00, 307.54it/s, loss=0.0019]\n"
     ]
    },
    {
     "name": "stdout",
     "output_type": "stream",
     "text": [
      "\n",
      "Epoch [3/10], Average Loss: 0.0034, Accuracy: 0.8553\n"
     ]
    },
    {
     "name": "stderr",
     "output_type": "stream",
     "text": [
      "Epoch 4/10: 100%|███████████| 53234/53234 [02:49<00:00, 314.73it/s, loss=0.0007]\n"
     ]
    },
    {
     "name": "stdout",
     "output_type": "stream",
     "text": [
      "\n",
      "Epoch [4/10], Average Loss: 0.0034, Accuracy: 0.8565\n"
     ]
    },
    {
     "name": "stderr",
     "output_type": "stream",
     "text": [
      "Epoch 5/10: 100%|███████████| 53234/53234 [02:46<00:00, 319.37it/s, loss=0.0008]\n"
     ]
    },
    {
     "name": "stdout",
     "output_type": "stream",
     "text": [
      "\n",
      "Epoch [5/10], Average Loss: 0.0033, Accuracy: 0.8586\n"
     ]
    },
    {
     "name": "stderr",
     "output_type": "stream",
     "text": [
      "Epoch 6/10: 100%|███████████| 53234/53234 [02:44<00:00, 324.20it/s, loss=0.0030]\n"
     ]
    },
    {
     "name": "stdout",
     "output_type": "stream",
     "text": [
      "\n",
      "Epoch [6/10], Average Loss: 0.0033, Accuracy: 0.8591\n"
     ]
    },
    {
     "name": "stderr",
     "output_type": "stream",
     "text": [
      "Epoch 7/10: 100%|███████████| 53234/53234 [02:47<00:00, 318.48it/s, loss=0.0039]\n"
     ]
    },
    {
     "name": "stdout",
     "output_type": "stream",
     "text": [
      "\n",
      "Epoch [7/10], Average Loss: 0.0033, Accuracy: 0.8599\n"
     ]
    },
    {
     "name": "stderr",
     "output_type": "stream",
     "text": [
      "Epoch 8/10: 100%|███████████| 53234/53234 [02:47<00:00, 317.09it/s, loss=0.0038]\n"
     ]
    },
    {
     "name": "stdout",
     "output_type": "stream",
     "text": [
      "\n",
      "Epoch [8/10], Average Loss: 0.0033, Accuracy: 0.8601\n"
     ]
    },
    {
     "name": "stderr",
     "output_type": "stream",
     "text": [
      "Epoch 9/10: 100%|███████████| 53234/53234 [02:45<00:00, 321.94it/s, loss=0.0023]\n"
     ]
    },
    {
     "name": "stdout",
     "output_type": "stream",
     "text": [
      "\n",
      "Epoch [9/10], Average Loss: 0.0033, Accuracy: 0.8600\n"
     ]
    },
    {
     "name": "stderr",
     "output_type": "stream",
     "text": [
      "Epoch 10/10: 100%|██████████| 53234/53234 [02:50<00:00, 312.26it/s, loss=0.0028]\n"
     ]
    },
    {
     "name": "stdout",
     "output_type": "stream",
     "text": [
      "\n",
      "Epoch [10/10], Average Loss: 0.0032, Accuracy: 0.8604\n",
      "모델이 저장되었습니다: LSTM_model1.pkl\n"
     ]
    }
   ],
   "source": [
    "for epoch in range(num_epochs):\n",
    "    model.train()\n",
    "    epoch_loss = 0  # 에포크당 손실 저장\n",
    "\n",
    "    # tqdm 진행률 바 (업데이트 주기 설정)\n",
    "    progress_bar = tqdm(train_loader, desc=f\"Epoch {epoch+1}/{num_epochs}\", leave=True)\n",
    "\n",
    "    for i, (X_batch, y_batch) in enumerate(progress_bar):  # 미니배치 학습\n",
    "        optimizer.zero_grad()\n",
    "\n",
    "        # 문제 해결: y_batch의 크기를 (batch_size, 1)로 변환\n",
    "        y_batch = y_batch.unsqueeze(-1)  # 크기 조정\n",
    "\n",
    "        # Forward pass\n",
    "        y_pred = model(X_batch)\n",
    "        loss = criterion(y_pred, y_batch)  # 수정 후 크기가 일치됨\n",
    "\n",
    "        # Backward pass\n",
    "        loss.backward()\n",
    "        optimizer.step()\n",
    "\n",
    "        epoch_loss += loss.item()\n",
    "\n",
    "        # tqdm 진행률 바 업데이트 주기 조정 (매 정해진(update_interval) 배치마다만 업데이트)\n",
    "        if i % update_interval == 0:\n",
    "            progress_bar.set_postfix(loss=f\"{loss.item():.4f}\")\n",
    "\n",
    "    #####정확도(회귀 → R² Score, 분류 → Accuracy) 계산#####\n",
    "    model.eval()  # 모델 평가 모드\n",
    "    with torch.no_grad():\n",
    "        y_true, y_pred_list = [], []\n",
    "\n",
    "        for X_batch, y_batch in test_loader:\n",
    "            y_batch = y_batch.unsqueeze(-1)  # 문제 해결: 평가 시에도 크기 조정\n",
    "            y_pred = model(X_batch)\n",
    "\n",
    "            if isinstance(criterion, torch.nn.MSELoss):  # 회귀 문제일 경우\n",
    "                y_pred_list.extend(y_pred.cpu().numpy())\n",
    "                y_true.extend(y_batch.cpu().numpy())\n",
    "            else:  # 분류 문제 (CrossEntropyLoss 등)\n",
    "                y_pred_class = torch.argmax(F.softmax(y_pred, dim=1), dim=1)\n",
    "                y_pred_list.extend(y_pred_class.cpu().numpy())\n",
    "                y_true.extend(y_batch.cpu().numpy())\n",
    "\n",
    "        # 회귀 문제면 R² Score, 분류 문제면 Accuracy 계산\n",
    "        if isinstance(criterion, torch.nn.MSELoss):\n",
    "            accuracy = r2_score(y_true, y_pred_list)  # R² Score\n",
    "        else:\n",
    "            accuracy = accuracy_score(y_true, y_pred_list)  # 정확도\n",
    "\n",
    "    print(f\"\\nEpoch [{epoch+1}/{num_epochs}], Average Loss: {epoch_loss / len(train_loader):.4f}, Accuracy: {accuracy:.4f}\")\n",
    "\n",
    "##### 학습된 모델을 `.pkl` 파일로 저장 #####\n",
    "model_path = f\"LSTM_model{practice_num}.pkl\"\n",
    "with open(model_path, \"wb\") as f:\n",
    "    pickle.dump(model, f)\n",
    "print(f\"모델이 저장되었습니다: {model_path}\")"
   ]
  }
 ],
 "metadata": {
  "kernelspec": {
   "display_name": "Python 3 (ipykernel)",
   "language": "python",
   "name": "python3"
  },
  "language_info": {
   "codemirror_mode": {
    "name": "ipython",
    "version": 3
   },
   "file_extension": ".py",
   "mimetype": "text/x-python",
   "name": "python",
   "nbconvert_exporter": "python",
   "pygments_lexer": "ipython3",
   "version": "3.10.12"
  }
 },
 "nbformat": 4,
 "nbformat_minor": 5
}
