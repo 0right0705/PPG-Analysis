{
 "cells": [
  {
   "cell_type": "code",
   "execution_count": 9,
   "id": "d03267b7-1f54-4829-8339-0adc9b856105",
   "metadata": {},
   "outputs": [
    {
     "name": "stdout",
     "output_type": "stream",
     "text": [
      "저장 완료!\n"
     ]
    }
   ],
   "source": [
    "import pandas as pd\n",
    "from datetime import datetime, timedelta\n",
    "\n",
    "# 파일 불러오기\n",
    "df = pd.read_csv(\"/home/youngwoo/ecg_2024-03-15.csv\")\n",
    "\n",
    "\n",
    "filename = \"ecg_2023-07-10\"\n",
    "with open(f\"/home/youngwoo/{filename}.csv\", 'r', encoding='utf-8') as f:\n",
    "    lines = f.readlines()\n",
    "\n",
    "# \"기록된 날짜\"가 포함된 줄을 찾기\n",
    "for line in lines:\n",
    "    if '기록된 날짜' in line:\n",
    "        # 시간만 추출\n",
    "        datetime_str = line.strip().split(',')[-1]\n",
    "        time_str = pd.to_datetime(datetime_str).time().strftime('%H:%M:%S')\n",
    "        break\n",
    "\n",
    "\n",
    "# 시작 시간 설정\n",
    "start_time = datetime.strptime(time_str, \"%H:%M:%S\")\n",
    "\n",
    "# 설정\n",
    "total_rows = len(df)\n",
    "start_row = 9  # 0-index 기준으로 14행\n",
    "block_size = 512\n",
    "num_blocks = (total_rows - start_row) // block_size\n",
    "\n",
    "# 기존 B열 복사\n",
    "timestamps = df.iloc[:, 1].copy()\n",
    "\n",
    "# B14부터 타임스탬프 덮어쓰기\n",
    "for block in range(num_blocks):\n",
    "    block_start_idx = start_row + block * block_size\n",
    "    block_start_time = start_time + timedelta(seconds=block)\n",
    "\n",
    "    for i in range(block_size):\n",
    "        idx = block_start_idx + i\n",
    "        if idx < total_rows:\n",
    "            t = block_start_time + timedelta(seconds=i / block_size)\n",
    "            timestamps.iloc[idx] = t.strftime(\"%H:%M:%S.%f\")[:-3]  # HH:MM:SS.mmm\n",
    "\n",
    "# B열에 타임스탬프 반영\n",
    "df.iloc[:, 1] = timestamps\n",
    "\n",
    "# 저장\n",
    "df.to_csv(f\"{filename}_time.csv\", index=False)\n",
    "print(\"저장 완료!\")\n"
   ]
  }
 ],
 "metadata": {
  "kernelspec": {
   "display_name": "Python 3 (ipykernel)",
   "language": "python",
   "name": "python3"
  },
  "language_info": {
   "codemirror_mode": {
    "name": "ipython",
    "version": 3
   },
   "file_extension": ".py",
   "mimetype": "text/x-python",
   "name": "python",
   "nbconvert_exporter": "python",
   "pygments_lexer": "ipython3",
   "version": "3.10.12"
  }
 },
 "nbformat": 4,
 "nbformat_minor": 5
}
