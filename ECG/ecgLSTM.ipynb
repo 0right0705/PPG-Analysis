{
 "cells": [
  {
   "cell_type": "code",
   "execution_count": 1,
   "id": "738f15c4-2a08-4727-8d1a-4c23a5708b63",
   "metadata": {},
   "outputs": [],
   "source": [
    "import torch\n",
    "import torch.nn as nn\n",
    "import torch.optim as optim\n",
    "import pandas as pd\n",
    "import numpy as np\n",
    "import matplotlib.pyplot as plt\n",
    "from torch.utils.data import TensorDataset, DataLoader\n",
    "from sklearn.preprocessing import MinMaxScaler\n",
    "import torch.nn.functional as F\n",
    "import pickle\n",
    "from tqdm import tqdm\n",
    "from sklearn.metrics import r2_score, accuracy_score"
   ]
  },
  {
   "cell_type": "code",
   "execution_count": 2,
   "id": "e34ece9d-8987-4ec9-b42f-6e04b617bcf8",
   "metadata": {},
   "outputs": [
    {
     "data": {
      "text/html": [
       "<div>\n",
       "<style scoped>\n",
       "    .dataframe tbody tr th:only-of-type {\n",
       "        vertical-align: middle;\n",
       "    }\n",
       "\n",
       "    .dataframe tbody tr th {\n",
       "        vertical-align: top;\n",
       "    }\n",
       "\n",
       "    .dataframe thead th {\n",
       "        text-align: right;\n",
       "    }\n",
       "</style>\n",
       "<table border=\"1\" class=\"dataframe\">\n",
       "  <thead>\n",
       "    <tr style=\"text-align: right;\">\n",
       "      <th></th>\n",
       "      <th>이름</th>\n",
       "      <th>최영우</th>\n",
       "    </tr>\n",
       "  </thead>\n",
       "  <tbody>\n",
       "    <tr>\n",
       "      <th>0</th>\n",
       "      <td>생년월일</td>\n",
       "      <td>2001. 7. 5.</td>\n",
       "    </tr>\n",
       "    <tr>\n",
       "      <th>1</th>\n",
       "      <td>기록된 날짜</td>\n",
       "      <td>2024-03-15 17:32:19 +0900</td>\n",
       "    </tr>\n",
       "    <tr>\n",
       "      <th>2</th>\n",
       "      <td>분류</td>\n",
       "      <td>동리듬</td>\n",
       "    </tr>\n",
       "    <tr>\n",
       "      <th>3</th>\n",
       "      <td>증상</td>\n",
       "      <td>NaN</td>\n",
       "    </tr>\n",
       "    <tr>\n",
       "      <th>4</th>\n",
       "      <td>소프트웨어 버전</td>\n",
       "      <td>1.90</td>\n",
       "    </tr>\n",
       "    <tr>\n",
       "      <th>5</th>\n",
       "      <td>기기</td>\n",
       "      <td>Watch6,6</td>\n",
       "    </tr>\n",
       "    <tr>\n",
       "      <th>6</th>\n",
       "      <td>샘플률</td>\n",
       "      <td>512헤르츠</td>\n",
       "    </tr>\n",
       "    <tr>\n",
       "      <th>7</th>\n",
       "      <td>유도</td>\n",
       "      <td>유도 I</td>\n",
       "    </tr>\n",
       "    <tr>\n",
       "      <th>8</th>\n",
       "      <td>단위</td>\n",
       "      <td>µV</td>\n",
       "    </tr>\n",
       "    <tr>\n",
       "      <th>9</th>\n",
       "      <td>-27.677</td>\n",
       "      <td>23:18:38.000</td>\n",
       "    </tr>\n",
       "    <tr>\n",
       "      <th>10</th>\n",
       "      <td>-48.607</td>\n",
       "      <td>23:18:38.001</td>\n",
       "    </tr>\n",
       "    <tr>\n",
       "      <th>11</th>\n",
       "      <td>-68.768</td>\n",
       "      <td>23:18:38.003</td>\n",
       "    </tr>\n",
       "    <tr>\n",
       "      <th>12</th>\n",
       "      <td>-87.902</td>\n",
       "      <td>23:18:38.005</td>\n",
       "    </tr>\n",
       "    <tr>\n",
       "      <th>13</th>\n",
       "      <td>-105.799</td>\n",
       "      <td>23:18:38.007</td>\n",
       "    </tr>\n",
       "    <tr>\n",
       "      <th>14</th>\n",
       "      <td>-122.221</td>\n",
       "      <td>23:18:38.009</td>\n",
       "    </tr>\n",
       "  </tbody>\n",
       "</table>\n",
       "</div>"
      ],
      "text/plain": [
       "          이름                        최영우\n",
       "0       생년월일                2001. 7. 5.\n",
       "1     기록된 날짜  2024-03-15 17:32:19 +0900\n",
       "2         분류                        동리듬\n",
       "3         증상                        NaN\n",
       "4   소프트웨어 버전                       1.90\n",
       "5         기기                   Watch6,6\n",
       "6        샘플률                     512헤르츠\n",
       "7         유도                       유도 I\n",
       "8         단위                         µV\n",
       "9    -27.677               23:18:38.000\n",
       "10   -48.607               23:18:38.001\n",
       "11   -68.768               23:18:38.003\n",
       "12   -87.902               23:18:38.005\n",
       "13  -105.799               23:18:38.007\n",
       "14  -122.221               23:18:38.009"
      ]
     },
     "execution_count": 2,
     "metadata": {},
     "output_type": "execute_result"
    }
   ],
   "source": [
    "filename=\"ecg_2023-07-10_time.csv\"\n",
    "data = pd.read_csv('ecg_2023-07-10_time.csv', encoding='utf-8')\n",
    "data.head(15)"
   ]
  },
  {
   "cell_type": "code",
   "execution_count": 3,
   "id": "d434608f-8902-4bb3-b8a1-3bc7fabd19de",
   "metadata": {},
   "outputs": [],
   "source": [
    "import numpy as np\n",
    "\n",
    "'''\n",
    "def makeNumpyData(data):\n",
    "    \"\"\" Pandas DataFrame의 '심박수_배열' 열을 NumPy 배열로 변환 \n",
    "        - 0이거나 숫자가 아닌 값은 제외\n",
    "    \"\"\"\n",
    "    ppg_data = data['심박수_배열']\n",
    "    \n",
    "    ppg_data_cleaned = []\n",
    "    for row in ppg_data.astype(str):\n",
    "        try:\n",
    "            numbers = [\n",
    "                int(num.strip()) \n",
    "                for num in row.split(\",\") \n",
    "                if num.strip().isdigit() and int(num.strip()) != 0\n",
    "            ]\n",
    "            ppg_data_cleaned.extend(numbers)\n",
    "        except ValueError as e:\n",
    "            print(f\"변환 오류 발생: {row} - {e}\")\n",
    "\n",
    "    return np.array(ppg_data_cleaned, dtype=np.int32)\n",
    "'''\n",
    "\n",
    "def makeNumpyData(data):\n",
    "    \"\"\" \n",
    "    9행부터의 첫 번째 열을 숫자로 변환하여 NumPy 배열로 반환하고, \n",
    "    두 번째 열에서 타임스탬프 문자열도 함께 반환\n",
    "    - 0이거나 숫자가 아닌 값은 제외\n",
    "    \"\"\"\n",
    "    heart_rate_values = data.iloc[9:, 0]  # 값\n",
    "    timestamps = data.iloc[9:, 1]         # 시간\n",
    "    cleaned_values = []\n",
    "    cleaned_times = []\n",
    "\n",
    "    for val, time in zip(heart_rate_values, timestamps):\n",
    "        try:\n",
    "            num = float(val)\n",
    "            if num != 0:\n",
    "                cleaned_values.append(num)\n",
    "                cleaned_times.append(time)\n",
    "        except ValueError:\n",
    "            print(f\"변환 오류: {val}\")\n",
    "\n",
    "    return np.array(cleaned_values, dtype=np.float32), list(cleaned_times)\n",
    "    \n",
    "def createSequence(data, seq_length):\n",
    "    \"\"\" 시퀀스 데이터 및 레이블 생성 \"\"\"\n",
    "    sequences, labels = [], []\n",
    "    for i in range(len(data) - seq_length):\n",
    "        sequences.append(data[i:i+seq_length])  # seq_length만큼 입력\n",
    "        labels.append(data[i+seq_length])  # 다음 값이 레이블\n",
    "    return np.array(sequences, dtype=np.float32), np.array(labels, dtype=np.float32)  # float으로 변환\n",
    "\n",
    "def makeTensorData(X, y):\n",
    "    \"\"\" 데이터를 스케일링 후 PyTorch Tensor로 변환 \"\"\"\n",
    "    scaler_X = MinMaxScaler()\n",
    "    scaler_y = MinMaxScaler()\n",
    "\n",
    "    X_scaled = scaler_X.fit_transform(X).astype(np.float32)  # (batch, seq_length)\n",
    "    y_scaled = scaler_y.fit_transform(y.reshape(-1, 1)).astype(np.float32)  # (batch, 1)\n",
    "\n",
    "    # PyTorch Tensor 변환\n",
    "    X_tensor = torch.tensor(X_scaled).unsqueeze(-1)  # (batch, seq_length, 1)\n",
    "    y_tensor = torch.tensor(y_scaled).squeeze()  # (batch,)\n",
    "\n",
    "    return X_tensor, y_tensor\n",
    "\n",
    "def setTrainTestData(X_tensor, y_tensor, batch_size):\n",
    "    \"\"\" 학습 및 테스트 데이터 분할 후 DataLoader 생성 \"\"\"\n",
    "    train_size = int(len(X_tensor) * 0.8)\n",
    "    \n",
    "    X_train, y_train = X_tensor[:train_size], y_tensor[:train_size]\n",
    "    X_test, y_test = X_tensor[train_size:], y_tensor[train_size:]\n",
    "\n",
    "    # DataLoader 적용\n",
    "    train_dataset = TensorDataset(X_train, y_train)\n",
    "    test_dataset = TensorDataset(X_test, y_test)\n",
    "\n",
    "    train_loader = DataLoader(train_dataset, batch_size=batch_size, shuffle=True)\n",
    "    test_loader = DataLoader(test_dataset, batch_size=batch_size, shuffle=False)\n",
    "\n",
    "    print(\"데이터 변환 완료! X_train.shape:\", X_train.shape, \"y_train.shape:\", y_train.shape)\n",
    "    print(\"X_test.shape:\", X_test.shape, \"y_test.shape:\", y_test.shape)\n",
    "    \n",
    "    return train_loader, test_loader, X_train, y_train, X_test, y_test"
   ]
  },
  {
   "cell_type": "code",
   "execution_count": 4,
   "id": "c4473248-27b6-4029-b2bf-23829a9a9cb1",
   "metadata": {},
   "outputs": [
    {
     "name": "stdout",
     "output_type": "stream",
     "text": [
      "[ -27.677  -48.607  -68.768  -87.902 -105.799]\n",
      "['23:18:38.000', '23:18:38.001', '23:18:38.003', '23:18:38.005', '23:18:38.007']\n",
      "데이터 변환 완료! X_train.shape: torch.Size([12262, 32, 1]) y_train.shape: torch.Size([12262])\n",
      "X_test.shape: torch.Size([3066, 32, 1]) y_test.shape: torch.Size([3066])\n"
     ]
    }
   ],
   "source": [
    "##수 정 할 변 수 들##\n",
    "seq_length = 32 # Length of Sequence\n",
    "batch_size = 16 # Literally Batch Size\n",
    "num_epochs = 10 # How much time will model practice?\n",
    "update_interval = 20  # tqdm 업데이트 주기 (매 10배치마다 갱신)\n",
    "practice_num = 5 # set Pickle File Number (update +1 every time)\n",
    "\n",
    "# main section\n",
    "ecg_values, time_stamps = makeNumpyData(data)\n",
    "print(ecg_values[:5]) \n",
    "print(time_stamps[:5]) \n",
    "X, y = createSequence(ecg_values, seq_length)\n",
    "X_tensor, y_tensor = makeTensorData(X, y)\n",
    "train_loader, test_loader, X_train, y_train, X_test, y_test = setTrainTestData(X_tensor, y_tensor, batch_size)"
   ]
  },
  {
   "cell_type": "code",
   "execution_count": 6,
   "id": "28eb59da-dd14-4a98-b569-4663cac24c0b",
   "metadata": {},
   "outputs": [
    {
     "data": {
      "image/png": "[encoded data removed]",
      "text/plain": [
       "<Figure size 1200x400 with 1 Axes>"
      ]
     },
     "metadata": {},
     "output_type": "display_data"
    }
   ],
   "source": [
    "##데이터 시각화##\n",
    "\n",
    "# 심박수 NumPy 배열 생성\n",
    "subset_y = ecg_values[:1536]\n",
    "subset_x = time_stamps[:1536]\n",
    "\n",
    "# 그래프 시각화\n",
    "plt.figure(figsize=(12, 4))\n",
    "plt.plot(subset_x, subset_y, marker='o', linestyle='-', label='ECG Rate')\n",
    "plt.title(f'ECG at {filename}')\n",
    "plt.xlabel('Time')\n",
    "plt.ylabel('ECG Rate (µV)')\n",
    "plt.grid(True)\n",
    "plt.legend()\n",
    "plt.tight_layout()\n",
    "\n",
    "# 512회(1초)당 한번씩만 시간(x축) 출력\n",
    "tick_spacing = 512\n",
    "tick_positions = np.arange(0, len(subset_x), tick_spacing)\n",
    "tick_labels = [subset_x[i] for i in tick_positions]\n",
    "\n",
    "plt.xticks(tick_positions, tick_labels, rotation=45, fontsize=8)\n",
    "\n",
    "plt.show()"
   ]
  },
  {
   "cell_type": "code",
   "execution_count": 35,
   "id": "f30012f7-6d03-41f8-bcd8-ed0ba993bda1",
   "metadata": {},
   "outputs": [],
   "source": [
    "class LSTMModel(nn.Module):\n",
    "    def __init__(self, input_size=1, hidden_size=64, num_layers=3, output_size=1):\n",
    "        super(LSTMModel, self).__init__()\n",
    "        self.hidden_size = hidden_size\n",
    "        self.num_layers = num_layers\n",
    "        self.lstm = nn.LSTM(input_size, hidden_size, num_layers,\n",
    "                            batch_first=True, dropout=0.3, bidirectional=True)\n",
    "        self.fc = nn.Linear(hidden_size * 2, output_size)\n",
    "\n",
    "    def forward(self, x):\n",
    "        h0 = torch.zeros(self.num_layers * 2, x.size(0), self.hidden_size).to(x.device)\n",
    "        c0 = torch.zeros(self.num_layers * 2, x.size(0), self.hidden_size).to(x.device)\n",
    "        out, _ = self.lstm(x, (h0, c0))\n",
    "        out = torch.relu(out[:, -1, :])\n",
    "        out = self.fc(out)\n",
    "        return out\n"
   ]
  },
  {
   "cell_type": "code",
   "execution_count": 36,
   "id": "66ec81c3-7c88-452b-aff3-30c61d8460b8",
   "metadata": {},
   "outputs": [
    {
     "name": "stdout",
     "output_type": "stream",
     "text": [
      "11.8\n",
      "True\n"
     ]
    }
   ],
   "source": [
    "import torch\n",
    "print(torch.version.cuda)  # CUDA 버전 출력\n",
    "print(torch.cuda.is_available())  # CUDA 사용 가능 여부\n"
   ]
  },
  {
   "cell_type": "code",
   "execution_count": 37,
   "id": "141c5df0-7feb-437b-a611-1b46a126bdd5",
   "metadata": {},
   "outputs": [
    {
     "name": "stdout",
     "output_type": "stream",
     "text": [
      "LSTMModel(\n",
      "  (lstm): LSTM(1, 64, num_layers=3, batch_first=True, dropout=0.3, bidirectional=True)\n",
      "  (fc): Linear(in_features=128, out_features=1, bias=True)\n",
      ")\n"
     ]
    }
   ],
   "source": [
    "# 모델, 손실 함수, 옵티마이저 설정\n",
    "device = torch.device(\"cuda\" if torch.cuda.is_available() else \"cpu\")\n",
    "\n",
    "model = LSTMModel().to(device)  # <- 여기를 먼저 실행\n",
    "print(model)\n",
    "\n",
    "criterion = nn.MSELoss()\n",
    "optimizer = optim.Adam(model.parameters(), lr=0.0001)\n",
    "\n",
    "# 데이터도 GPU로 이동\n",
    "X_train, y_train = X_train.to(device), y_train.to(device)\n",
    "X_test, y_test = X_test.to(device), y_test.to(device)\n"
   ]
  },
  {
   "cell_type": "code",
   "execution_count": 38,
   "id": "0347cd8f-acbe-4218-bdc1-9a1bb0c29382",
   "metadata": {},
   "outputs": [
    {
     "name": "stderr",
     "output_type": "stream",
     "text": [
      "Epoch 1/10: 100%|███████████████| 767/767 [00:01<00:00, 493.78it/s, loss=0.0008]\n"
     ]
    },
    {
     "name": "stdout",
     "output_type": "stream",
     "text": [
      "\n",
      "Epoch [1/10], Average Loss: 0.0298, Accuracy: 0.9134\n"
     ]
    },
    {
     "name": "stderr",
     "output_type": "stream",
     "text": [
      "Epoch 2/10: 100%|███████████████| 767/767 [00:01<00:00, 507.95it/s, loss=0.0003]\n"
     ]
    },
    {
     "name": "stdout",
     "output_type": "stream",
     "text": [
      "\n",
      "Epoch [2/10], Average Loss: 0.0017, Accuracy: 0.8847\n"
     ]
    },
    {
     "name": "stderr",
     "output_type": "stream",
     "text": [
      "Epoch 3/10: 100%|███████████████| 767/767 [00:01<00:00, 509.00it/s, loss=0.0006]\n"
     ]
    },
    {
     "name": "stdout",
     "output_type": "stream",
     "text": [
      "\n",
      "Epoch [3/10], Average Loss: 0.0013, Accuracy: 0.9383\n"
     ]
    },
    {
     "name": "stderr",
     "output_type": "stream",
     "text": [
      "Epoch 4/10: 100%|███████████████| 767/767 [00:01<00:00, 507.47it/s, loss=0.0001]\n"
     ]
    },
    {
     "name": "stdout",
     "output_type": "stream",
     "text": [
      "\n",
      "Epoch [4/10], Average Loss: 0.0010, Accuracy: 0.9615\n"
     ]
    },
    {
     "name": "stderr",
     "output_type": "stream",
     "text": [
      "Epoch 5/10: 100%|███████████████| 767/767 [00:01<00:00, 508.64it/s, loss=0.0014]\n"
     ]
    },
    {
     "name": "stdout",
     "output_type": "stream",
     "text": [
      "\n",
      "Epoch [5/10], Average Loss: 0.0009, Accuracy: 0.9469\n"
     ]
    },
    {
     "name": "stderr",
     "output_type": "stream",
     "text": [
      "Epoch 6/10: 100%|███████████████| 767/767 [00:01<00:00, 523.15it/s, loss=0.0007]\n"
     ]
    },
    {
     "name": "stdout",
     "output_type": "stream",
     "text": [
      "\n",
      "Epoch [6/10], Average Loss: 0.0007, Accuracy: 0.9540\n"
     ]
    },
    {
     "name": "stderr",
     "output_type": "stream",
     "text": [
      "Epoch 7/10: 100%|███████████████| 767/767 [00:01<00:00, 507.96it/s, loss=0.0007]\n"
     ]
    },
    {
     "name": "stdout",
     "output_type": "stream",
     "text": [
      "\n",
      "Epoch [7/10], Average Loss: 0.0007, Accuracy: 0.9760\n"
     ]
    },
    {
     "name": "stderr",
     "output_type": "stream",
     "text": [
      "Epoch 8/10: 100%|███████████████| 767/767 [00:01<00:00, 507.37it/s, loss=0.0004]\n"
     ]
    },
    {
     "name": "stdout",
     "output_type": "stream",
     "text": [
      "\n",
      "Epoch [8/10], Average Loss: 0.0006, Accuracy: 0.9611\n"
     ]
    },
    {
     "name": "stderr",
     "output_type": "stream",
     "text": [
      "Epoch 9/10: 100%|███████████████| 767/767 [00:01<00:00, 507.28it/s, loss=0.0002]\n"
     ]
    },
    {
     "name": "stdout",
     "output_type": "stream",
     "text": [
      "\n",
      "Epoch [9/10], Average Loss: 0.0006, Accuracy: 0.9835\n"
     ]
    },
    {
     "name": "stderr",
     "output_type": "stream",
     "text": [
      "Epoch 10/10: 100%|██████████████| 767/767 [00:01<00:00, 507.27it/s, loss=0.0005]\n"
     ]
    },
    {
     "name": "stdout",
     "output_type": "stream",
     "text": [
      "\n",
      "Epoch [10/10], Average Loss: 0.0005, Accuracy: 0.9864\n",
      "모델이 저장되었습니다: LSTM_model5.pkl\n"
     ]
    }
   ],
   "source": [
    "device = torch.device(\"cuda\" if torch.cuda.is_available() else \"cpu\")\n",
    "model = model.to(device)  # 모델도 GPU로\n",
    "\n",
    "for epoch in range(num_epochs):\n",
    "    model.train()\n",
    "    epoch_loss = 0\n",
    "\n",
    "    progress_bar = tqdm(train_loader, desc=f\"Epoch {epoch+1}/{num_epochs}\", leave=True)\n",
    "\n",
    "    for i, (X_batch, y_batch) in enumerate(progress_bar):\n",
    "        optimizer.zero_grad()\n",
    "\n",
    "        # 데이터도 GPU로 이동\n",
    "        X_batch = X_batch.to(device)\n",
    "        y_batch = y_batch.to(device).unsqueeze(-1)  # 한 번만 unsqueeze!\n",
    "\n",
    "        y_pred = model(X_batch)\n",
    "        loss = criterion(y_pred, y_batch)\n",
    "\n",
    "        loss.backward()\n",
    "        optimizer.step()\n",
    "        epoch_loss += loss.item()\n",
    "\n",
    "        if i % update_interval == 0:\n",
    "            progress_bar.set_postfix(loss=f\"{loss.item():.4f}\")\n",
    "\n",
    "    ##### 평가 #####\n",
    "    model.eval()\n",
    "    with torch.no_grad():\n",
    "        y_true, y_pred_list = [], []\n",
    "\n",
    "        for X_batch, y_batch in test_loader:\n",
    "            X_batch = X_batch.to(device)\n",
    "            y_batch = y_batch.to(device).unsqueeze(-1)\n",
    "\n",
    "            y_pred = model(X_batch)\n",
    "\n",
    "            if isinstance(criterion, torch.nn.MSELoss):\n",
    "                y_pred_list.extend(y_pred.cpu().numpy())\n",
    "                y_true.extend(y_batch.cpu().numpy())\n",
    "            else:\n",
    "                y_pred_class = torch.argmax(F.softmax(y_pred, dim=1), dim=1)\n",
    "                y_pred_list.extend(y_pred_class.cpu().numpy())\n",
    "                y_true.extend(y_batch.cpu().numpy())\n",
    "\n",
    "        if isinstance(criterion, torch.nn.MSELoss):\n",
    "            accuracy = r2_score(y_true, y_pred_list)\n",
    "        else:\n",
    "            accuracy = accuracy_score(y_true, y_pred_list)\n",
    "\n",
    "    print(f\"\\nEpoch [{epoch+1}/{num_epochs}], Average Loss: {epoch_loss / len(train_loader):.4f}, Accuracy: {accuracy:.4f}\")\n",
    "\n",
    "##### 모델 저장 #####\n",
    "model_path = f\"LSTM_model{practice_num}.pkl\"\n",
    "with open(model_path, \"wb\") as f:\n",
    "    pickle.dump(model, f)\n",
    "print(f\"모델이 저장되었습니다: {model_path}\")\n"
   ]
  }
 ],
 "metadata": {
  "kernelspec": {
   "display_name": "Python 3 (ipykernel)",
   "language": "python",
   "name": "python3"
  },
  "language_info": {
   "codemirror_mode": {
    "name": "ipython",
    "version": 3
   },
   "file_extension": ".py",
   "mimetype": "text/x-python",
   "name": "python",
   "nbconvert_exporter": "python",
   "pygments_lexer": "ipython3",
   "version": "3.10.12"
  }
 },
 "nbformat": 4,
 "nbformat_minor": 5
}
